{
  "nbformat": 4,
  "nbformat_minor": 0,
  "metadata": {
    "colab": {
      "name": "FDS.Assignment5.ipynb",
      "provenance": [],
      "collapsed_sections": []
    },
    "kernelspec": {
      "name": "python3",
      "display_name": "Python 3"
    }
  },
  "cells": [
    {
      "cell_type": "markdown",
      "metadata": {
        "id": "cex_h61nEObM"
      },
      "source": [
        "\r\n",
        "Q. 1. Two dice are rolled, find the probability that the sum is: equal to 1 equal to 4 less than 13"
      ]
    },
    {
      "cell_type": "code",
      "metadata": {
        "colab": {
          "base_uri": "https://localhost:8080/"
        },
        "id": "SYoNI8wODrBc",
        "outputId": "9c867fa9-2542-48aa-87de-ef04dfde2e55"
      },
      "source": [
        "print(\"When two fair dice are rolled:\")\r\n",
        "s=36\r\n",
        "print(\"n(s):\",s)\r\n",
        "\r\n",
        "print(\"a:Probability that the sum is equal to 1:\")\r\n",
        "a=0\r\n",
        "print(\"n(a):\",a)\r\n",
        "p1=a/s\r\n",
        "print(\"probabilty is:\",p1)\r\n",
        "\r\n",
        "print(\"a:Probability that the sum is equal to 4:\")\r\n",
        "b=3\r\n",
        "print(\"n(b):\",b)\r\n",
        "p2=b/s\r\n",
        "print(\"probabilty is:\",p2)\r\n",
        "\r\n",
        "print(\"a:Probability that the sum is les than 13:\")\r\n",
        "c=36\r\n",
        "print(\"n(c):\",c)\r\n",
        "p3=c/s\r\n",
        "print(\"probabilty is:\",p3)"
      ],
      "execution_count": 1,
      "outputs": [
        {
          "output_type": "stream",
          "text": [
            "When two fair dice are rolled:\n",
            "n(s): 36\n",
            "a:Probability that the sum is equal to 1:\n",
            "n(a): 0\n",
            "probabilty is: 0.0\n",
            "a:Probability that the sum is equal to 4:\n",
            "n(b): 3\n",
            "probabilty is: 0.08333333333333333\n",
            "a:Probability that the sum is les than 13:\n",
            "n(c): 36\n",
            "probabilty is: 1.0\n"
          ],
          "name": "stdout"
        }
      ]
    },
    {
      "cell_type": "markdown",
      "metadata": {
        "id": "EEZ5EetWEaeZ"
      },
      "source": [
        "Q. 2. In the game of snakes and ladders, a fair die is thrown. If event E1 represents all the events of getting a natural number less than 4, event E2 consists of all the events of getting an even number and E3 denotes all the events of getting an odd number. List the sets representing the following: E1 or E2 or E3 E1 and E2 and E3 E1 but not E3"
      ]
    },
    {
      "cell_type": "code",
      "metadata": {
        "colab": {
          "base_uri": "https://localhost:8080/"
        },
        "id": "M42SlmH8EbqT",
        "outputId": "4af912f0-00b9-450e-e178-bd95df159dbb"
      },
      "source": [
        "s=[]\r\n",
        "def sample(n):\r\n",
        "    for i in range(1,n+1):\r\n",
        "        s.append(i)\r\n",
        "sample(6)\r\n",
        "print(\"Sample space is:\",s)\r\n",
        "\r\n",
        "print(\" E1 represents all the events of getting a natural number less than 4.\")\r\n",
        "E1=[]\r\n",
        "for i in s:\r\n",
        "    if(i<4):\r\n",
        "        E1.append(i)\r\n",
        "print(\"E1:\",E1)\r\n",
        "\r\n",
        "print(\"E2 consists of all the events of getting an even number.\")\r\n",
        "E2=[]\r\n",
        "for i in s:\r\n",
        "    if(i%2==0):\r\n",
        "        E2.append(i)\r\n",
        "print(\"E2:\",E2)\r\n",
        "\r\n",
        "print(\"E3 consists of all the events of getting an odd number.\")\r\n",
        "E3=[]\r\n",
        "for i in s:\r\n",
        "    if(i%2!=0):\r\n",
        "        E3.append(i)\r\n",
        "print(\"E3:\",E3)\r\n",
        "\r\n",
        "\r\n",
        "a=[]\r\n",
        "for i in s:\r\n",
        "    if(E1 or E2 or E3):\r\n",
        "        a.append(i)\r\n",
        "print(\"E1orE2orE3:\",a)        \r\n",
        "\r\n",
        "\r\n",
        "b=[]\r\n",
        "for i in s:\r\n",
        "    if(E1 in E2 in E3):\r\n",
        "        b.append(i)\r\n",
        "print(\"E1andE2andE3:\",b)        \r\n",
        "\r\n",
        "c=[]\r\n",
        "for i in E1:\r\n",
        "    if(i not in E3):\r\n",
        "        c.append(i)\r\n",
        "print(\"E1 but not E3:\",c)"
      ],
      "execution_count": 2,
      "outputs": [
        {
          "output_type": "stream",
          "text": [
            "Sample space is: [1, 2, 3, 4, 5, 6]\n",
            " E1 represents all the events of getting a natural number less than 4.\n",
            "E1: [1, 2, 3]\n",
            "E2 consists of all the events of getting an even number.\n",
            "E2: [2, 4, 6]\n",
            "E3 consists of all the events of getting an odd number.\n",
            "E3: [1, 3, 5]\n",
            "E1orE2orE3: [1, 2, 3, 4, 5, 6]\n",
            "E1andE2andE3: []\n",
            "E1 but not E3: [2]\n"
          ],
          "name": "stdout"
        }
      ]
    },
    {
      "cell_type": "markdown",
      "metadata": {
        "id": "XQ2m6e3mEb5J"
      },
      "source": [
        "Q.3 How many permutations of the letters of the word ARTICLE have consonants in the first and last positions?"
      ]
    },
    {
      "cell_type": "code",
      "metadata": {
        "colab": {
          "base_uri": "https://localhost:8080/"
        },
        "id": "W8F0NZG6EcG7",
        "outputId": "c2baa1e1-4d4b-4f34-a25e-b96407c7e6d5"
      },
      "source": [
        "import math\r\n",
        "\r\n",
        "def permutate(n,r):\r\n",
        "    f1=math.factorial(n)\r\n",
        "    f2=math.factorial(n-r)\r\n",
        "    c=f1/f2\r\n",
        "    return c\r\n",
        "\r\n",
        "string=\"ARTICLE\"\r\n",
        "s=len(string)\r\n",
        "vowels=0\r\n",
        "consonants=0\r\n",
        "string=string.lower()\r\n",
        "\r\n",
        "for i in string:\r\n",
        "    if(i=='a' or i=='e' or i=='i' or i=='o' or i=='u'):\r\n",
        "        vowels=vowels+1\r\n",
        "    else:\r\n",
        "        consonants=consonants+1\r\n",
        "        \r\n",
        "print(\"Total Number of Vowels in string=\",vowels)\r\n",
        "print(\"Total Number of Consonants in string=\",consonants)\r\n",
        "\r\n",
        "start=permutate(consonants, 1)\r\n",
        "consonants-=1\r\n",
        "\r\n",
        "end=permutate(consonants, 1)\r\n",
        "consonants-=1\r\n",
        "\r\n",
        "c=consonants+vowels\r\n",
        "r=c\r\n",
        "a=1\r\n",
        "\r\n",
        "for i in range(r):\r\n",
        "    a=a*permutate(c, 1)\r\n",
        "    c=c-1\r\n",
        "    \r\n",
        "rest1=a*start*end\r\n",
        "print(\"Total Permutations are:\",rest1)"
      ],
      "execution_count": 3,
      "outputs": [
        {
          "output_type": "stream",
          "text": [
            "Total Number of Vowels in string= 3\n",
            "Total Number of Consonants in string= 4\n",
            "Total Permutations are: 1440.0\n"
          ],
          "name": "stdout"
        }
      ]
    },
    {
      "cell_type": "markdown",
      "metadata": {
        "id": "3ULTiHwGEcbc"
      },
      "source": [
        "Q. 4. Give five letters {A,B,C,D,E}. Find the following: The number of four-letter word sequences. The number of three-letter word sequences. The number of two-letter word sequences."
      ]
    },
    {
      "cell_type": "code",
      "metadata": {
        "colab": {
          "base_uri": "https://localhost:8080/"
        },
        "id": "y-SX0zmAEcqj",
        "outputId": "10f95097-b81e-4640-f49d-cbe895933dd4"
      },
      "source": [
        "\r\n",
        "ss=['A','B','C','D','E']\r\n",
        "print(\"Given, ss:\",ss) \r\n",
        "      \r\n",
        "print(\"The Number of four letter word sequence is:\",permutate(5, 4))\r\n",
        "      \r\n",
        "print(\"The Number of three letter word sequence is:\",permutate(5, 3))\r\n",
        "\r\n",
        "print(\"The Number of two letter word sequence is:\",permutate(5, 2))"
      ],
      "execution_count": 4,
      "outputs": [
        {
          "output_type": "stream",
          "text": [
            "Given, ss: ['A', 'B', 'C', 'D', 'E']\n",
            "The Number of four letter word sequence is: 120.0\n",
            "The Number of three letter word sequence is: 60.0\n",
            "The Number of two letter word sequence is: 20.0\n"
          ],
          "name": "stdout"
        }
      ]
    },
    {
      "cell_type": "markdown",
      "metadata": {
        "id": "ZC7mSL3XFDY9"
      },
      "source": [
        "Q. 5. In how many different ways can 4 people be seated in a straight line if two of them insist on sitting next to each other."
      ]
    },
    {
      "cell_type": "code",
      "metadata": {
        "colab": {
          "base_uri": "https://localhost:8080/"
        },
        "id": "jeuRPIYqFDpR",
        "outputId": "fd4a40ac-a6cc-4099-be74-1d9675fd7001"
      },
      "source": [
        "import itertools\r\n",
        "list1=[\"P1\",\"P2\",\"P3\",\"P4\"]\r\n",
        "a=itertools.permutations(list1)\r\n",
        "for i in a:\r\n",
        "    b=i\r\n",
        "    print(i)"
      ],
      "execution_count": 5,
      "outputs": [
        {
          "output_type": "stream",
          "text": [
            "('P1', 'P2', 'P3', 'P4')\n",
            "('P1', 'P2', 'P4', 'P3')\n",
            "('P1', 'P3', 'P2', 'P4')\n",
            "('P1', 'P3', 'P4', 'P2')\n",
            "('P1', 'P4', 'P2', 'P3')\n",
            "('P1', 'P4', 'P3', 'P2')\n",
            "('P2', 'P1', 'P3', 'P4')\n",
            "('P2', 'P1', 'P4', 'P3')\n",
            "('P2', 'P3', 'P1', 'P4')\n",
            "('P2', 'P3', 'P4', 'P1')\n",
            "('P2', 'P4', 'P1', 'P3')\n",
            "('P2', 'P4', 'P3', 'P1')\n",
            "('P3', 'P1', 'P2', 'P4')\n",
            "('P3', 'P1', 'P4', 'P2')\n",
            "('P3', 'P2', 'P1', 'P4')\n",
            "('P3', 'P2', 'P4', 'P1')\n",
            "('P3', 'P4', 'P1', 'P2')\n",
            "('P3', 'P4', 'P2', 'P1')\n",
            "('P4', 'P1', 'P2', 'P3')\n",
            "('P4', 'P1', 'P3', 'P2')\n",
            "('P4', 'P2', 'P1', 'P3')\n",
            "('P4', 'P2', 'P3', 'P1')\n",
            "('P4', 'P3', 'P1', 'P2')\n",
            "('P4', 'P3', 'P2', 'P1')\n"
          ],
          "name": "stdout"
        }
      ]
    },
    {
      "cell_type": "markdown",
      "metadata": {
        "id": "CRLA5jtEFEAS"
      },
      "source": [
        "Q. 6. You have 4 math books and 5 history books to put on a shelf that has 5 slots. In how many ways can the books be shelved if the first three slots are filled with math books and the next two slots are filled with history books?"
      ]
    },
    {
      "cell_type": "code",
      "metadata": {
        "id": "mQx7iRN7FEOg"
      },
      "source": [
        "import math\r\n",
        "def permutate(n,r):\r\n",
        "    f1=math.factorial(n)\r\n",
        "    f3=math.factorial(n-r)\r\n",
        "    c=f1/f3\r\n",
        "    return c\r\n",
        "var=permutate(4,3)\r\n",
        "var2=permutate(5,2)\r\n",
        "print(var*var2)"
      ],
      "execution_count": null,
      "outputs": []
    },
    {
      "cell_type": "markdown",
      "metadata": {
        "id": "7BiqkNTNFEbp"
      },
      "source": [
        "Q. 7. The shopping mall has a straight row of 5 flagpoles at its main entrance plaza. It has 3 identical green flags and 2 identical yellow flags. How many distinct arrangements of flags on the flagpoles are possible?"
      ]
    },
    {
      "cell_type": "code",
      "metadata": {
        "colab": {
          "base_uri": "https://localhost:8080/"
        },
        "id": "kSZOZQ7tFEsf",
        "outputId": "814e5d74-df80-44f3-92be-b09ced80e693"
      },
      "source": [
        "def permutate(n,r,o):\r\n",
        "    f1=math.factorial(n)\r\n",
        "    f2=math.factorial(r)\r\n",
        "    f3=math.factorial(o)\r\n",
        "    c=f1/(f2*f3)\r\n",
        "    return c\r\n",
        "var=permutate(5,3,2)\r\n",
        "print(var)"
      ],
      "execution_count": 6,
      "outputs": [
        {
          "output_type": "stream",
          "text": [
            "10.0\n"
          ],
          "name": "stdout"
        }
      ]
    },
    {
      "cell_type": "markdown",
      "metadata": {
        "id": "nvXV5_IBEc6B"
      },
      "source": [
        "Q.8.A Birthday Problem (Collision of Birth Days) \"If there are ‘n’ people in a room, what is the chance that some pair among them have the same birthday?\""
      ]
    },
    {
      "cell_type": "code",
      "metadata": {
        "colab": {
          "base_uri": "https://localhost:8080/"
        },
        "id": "Idyt3oI1EdMP",
        "outputId": "ba1f0ba4-8c3a-4eab-aaa5-ca2f9d3f3f53"
      },
      "source": [
        "from random import randint\r\n",
        " \r\n",
        " \r\n",
        "NUM_PEOPLE = int(input(\"Enter The number of peoples in room:\"))\r\n",
        "NUM_POSSIBLE_BIRTHDAYS = 365\r\n",
        "NUM_TRIALS = 10000\r\n",
        " \r\n",
        " \r\n",
        "def generate_random_birthday():\r\n",
        "    birthday = randint(1, NUM_POSSIBLE_BIRTHDAYS)\r\n",
        "    return birthday\r\n",
        " \r\n",
        " \r\n",
        "def generate_k_birthdays(k):\r\n",
        "    birthdays = [generate_random_birthday() for _ in range(k)]\r\n",
        "    return birthdays\r\n",
        " \r\n",
        " \r\n",
        "def aloc(birthdays):\r\n",
        "    unique_birthdays = set(birthdays)\r\n",
        " \r\n",
        "    num_birthdays = len(birthdays)\r\n",
        "    num_unique_birthdays = len(unique_birthdays)\r\n",
        "    has_coincidence = (num_birthdays != num_unique_birthdays)\r\n",
        " \r\n",
        "    return has_coincidence\r\n",
        " \r\n",
        " \r\n",
        "def estimate_p_aloc():\r\n",
        "    num_aloc = 0\r\n",
        "    for _ in range(NUM_TRIALS):\r\n",
        "        birthdays = generate_k_birthdays(NUM_PEOPLE)\r\n",
        "        has_coincidence = aloc(birthdays)\r\n",
        "        if has_coincidence:\r\n",
        "            num_aloc += 1\r\n",
        " \r\n",
        "    p_aloc = num_aloc / NUM_TRIALS\r\n",
        "    return p_aloc\r\n",
        " \r\n",
        "p_aloc = estimate_p_aloc()\r\n",
        "print(f\"Estimated P(ALOC) after {NUM_TRIALS} trials: {p_aloc}\")"
      ],
      "execution_count": 7,
      "outputs": [
        {
          "output_type": "stream",
          "text": [
            "Enter The number of peoples in room:12\n",
            "Estimated P(ALOC) after 10000 trials: 0.1639\n"
          ],
          "name": "stdout"
        }
      ]
    },
    {
      "cell_type": "markdown",
      "metadata": {
        "id": "hFIlqZMKFqgy"
      },
      "source": [
        "Q. 9. You have a fair, well-shuffled deck of 52 cards. It consists of four suits. The suits are clubs, diamonds, hearts and spaces. There are 13 cards in each suit consisting of 1, 2, 3, 4, 5, 6, 7, 8, 9, J(Jack), Q(Queen), H(king) of that suit. Three cards are picked at random Suppose you know that the picked cards are Q of spades, K of hearts and Q of spades. Can you decide if the sampling was with or without replacement? Suppose you know that the picked cards are Q of spades, K of hearts and J of spades. Can you decide if the sampling was with or without replacement?\r\n",
        "\r\n",
        "Answer:- Sampling was with the replacement when we pitch card Q of spaces,K of hearts and Q of spaces because is each siuts we had one queen only heart we are picking 2 green from spades which is not possible in without replacement. In this card we have Q of spades K of hearts and J of spades.Here the sampling was done in without replacement because we are picking two different cards from single suits and it can be possible in both the sampling also."
      ]
    },
    {
      "cell_type": "markdown",
      "metadata": {
        "id": "eA3haWm7F0Kr"
      },
      "source": [
        "Q. 10. You have a fair, well-shuffled deck of 52 cards. It consists of four suits. The suits are clubs, diamonds, hearts and spaces. There are 13 cards in each suit consisting of 1, 2, 3, 4, 5, 6, 7, 8, 9, J(Jack), Q(Queen), H(king) of that suit. S=spades, H=Hearts, D=Diamonds, C=Clubs, suppose that you sample four cards without replacement. Which of the following outcomes are possible? Answer the following questions for sampling with replacement. QS, ID, 1C, QD KH, 7D, 6D, KH QS, 7D, 6D, KS\r\n",
        "\r\n",
        "Answer:- Sampling with replacement n(5)=52 #####\r\n",
        "\r\n",
        "A)Q5,1D,1C,QD Q5: Queen for spade :Possible 1D:Impossible 1C:1 from clubs:Possible QD:Queen from diaminds:Possible\r\n",
        "\r\n",
        "B) KH,7D,6D,KH KH:Possible 7D:Possible 6D:Possible KH:Possible\r\n",
        "\r\n",
        "C) Q5,7D,6D,KS QS:Possible 7D:Possible 6D:Possible KS:Possible"
      ]
    }
  ]
}